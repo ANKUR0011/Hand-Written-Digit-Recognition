{
 "cells": [
  {
   "cell_type": "code",
   "execution_count": 33,
   "id": "e76ee13f-c503-4b2a-9ff1-b4b10799d0c5",
   "metadata": {},
   "outputs": [],
   "source": [
    "from sklearn.datasets import load_digits\n",
    "digits = load_digits()"
   ]
  },
  {
   "cell_type": "code",
   "execution_count": 34,
   "id": "f404bd03-72a3-43f2-80ef-193882de0c7d",
   "metadata": {},
   "outputs": [
    {
     "data": {
      "text/plain": [
       "['DESCR', 'data', 'feature_names', 'frame', 'images', 'target', 'target_names']"
      ]
     },
     "execution_count": 34,
     "metadata": {},
     "output_type": "execute_result"
    }
   ],
   "source": [
    "dir(digits)"
   ]
  },
  {
   "cell_type": "code",
   "execution_count": 35,
   "id": "08b26508-5574-40c3-b88e-c20d8f1c2b0f",
   "metadata": {},
   "outputs": [
    {
     "data": {
      "text/plain": [
       "(1797, 64)"
      ]
     },
     "execution_count": 35,
     "metadata": {},
     "output_type": "execute_result"
    }
   ],
   "source": [
    "digits.data.shape"
   ]
  },
  {
   "cell_type": "code",
   "execution_count": 36,
   "id": "87d25920-f3b5-456d-8916-5bc3bad3f567",
   "metadata": {},
   "outputs": [
    {
     "data": {
      "text/plain": [
       "array([ 0.,  0.,  9., 14.,  8.,  1.,  0.,  0.,  0.,  0., 12., 14., 14.,\n",
       "       12.,  0.,  0.,  0.,  0.,  9., 10.,  0., 15.,  4.,  0.,  0.,  0.,\n",
       "        3., 16., 12., 14.,  2.,  0.,  0.,  0.,  4., 16., 16.,  2.,  0.,\n",
       "        0.,  0.,  3., 16.,  8., 10., 13.,  2.,  0.,  0.,  1., 15.,  1.,\n",
       "        3., 16.,  8.,  0.,  0.,  0., 11., 16., 15., 11.,  1.,  0.])"
      ]
     },
     "execution_count": 36,
     "metadata": {},
     "output_type": "execute_result"
    }
   ],
   "source": [
    "digits.data[8]"
   ]
  },
  {
   "cell_type": "code",
   "execution_count": 37,
   "id": "c657da52-47fb-43a8-8f90-47634b599676",
   "metadata": {},
   "outputs": [
    {
     "data": {
      "text/plain": [
       "<matplotlib.image.AxesImage at 0x148bc967010>"
      ]
     },
     "execution_count": 37,
     "metadata": {},
     "output_type": "execute_result"
    },
    {
     "data": {
      "text/plain": [
       "<Figure size 640x480 with 0 Axes>"
      ]
     },
     "metadata": {},
     "output_type": "display_data"
    },
    {
     "data": {
      "image/png": "[encoded data removed]",
      "text/plain": [
       "<Figure size 480x480 with 1 Axes>"
      ]
     },
     "metadata": {},
     "output_type": "display_data"
    }
   ],
   "source": [
    "import matplotlib.pyplot as plt\n",
    "plt.gray()\n",
    "plt.matshow(digits.images[7])  #displays 8th image"
   ]
  },
  {
   "cell_type": "code",
   "execution_count": 38,
   "id": "cf7eaf39-cc4d-49df-a212-275736522d64",
   "metadata": {},
   "outputs": [
    {
     "data": {
      "text/plain": [
       "7"
      ]
     },
     "execution_count": 38,
     "metadata": {},
     "output_type": "execute_result"
    }
   ],
   "source": [
    "digits.target[7]"
   ]
  },
  {
   "cell_type": "code",
   "execution_count": 39,
   "id": "6e29f426-74d1-4257-a66d-a7c7ba74e5c5",
   "metadata": {},
   "outputs": [],
   "source": [
    "from sklearn.model_selection import train_test_split\n",
    "x_train, x_test, y_train, y_test = train_test_split(digits.data, digits.target, test_size=0.3  #splliting traning and test data"
   ]
  },
  {
   "cell_type": "code",
   "execution_count": 61,
   "id": "911c1d5e-9612-48ad-8ef0-3bef5d76dd10",
   "metadata": {
    "scrolled": true
   },
   "outputs": [
    {
     "data": {
      "text/html": [
       "<style>#sk-container-id-3 {color: black;background-color: white;}#sk-container-id-3 pre{padding: 0;}#sk-container-id-3 div.sk-toggleable {background-color: white;}#sk-container-id-3 label.sk-toggleable__label {cursor: pointer;display: block;width: 100%;margin-bottom: 0;padding: 0.3em;box-sizing: border-box;text-align: center;}#sk-container-id-3 label.sk-toggleable__label-arrow:before {content: \"▸\";float: left;margin-right: 0.25em;color: #696969;}#sk-container-id-3 label.sk-toggleable__label-arrow:hover:before {color: black;}#sk-container-id-3 div.sk-estimator:hover label.sk-toggleable__label-arrow:before {color: black;}#sk-container-id-3 div.sk-toggleable__content {max-height: 0;max-width: 0;overflow: hidden;text-align: left;background-color: #f0f8ff;}#sk-container-id-3 div.sk-toggleable__content pre {margin: 0.2em;color: black;border-radius: 0.25em;background-color: #f0f8ff;}#sk-container-id-3 input.sk-toggleable__control:checked~div.sk-toggleable__content {max-height: 200px;max-width: 100%;overflow: auto;}#sk-container-id-3 input.sk-toggleable__control:checked~label.sk-toggleable__label-arrow:before {content: \"▾\";}#sk-container-id-3 div.sk-estimator input.sk-toggleable__control:checked~label.sk-toggleable__label {background-color: #d4ebff;}#sk-container-id-3 div.sk-label input.sk-toggleable__control:checked~label.sk-toggleable__label {background-color: #d4ebff;}#sk-container-id-3 input.sk-hidden--visually {border: 0;clip: rect(1px 1px 1px 1px);clip: rect(1px, 1px, 1px, 1px);height: 1px;margin: -1px;overflow: hidden;padding: 0;position: absolute;width: 1px;}#sk-container-id-3 div.sk-estimator {font-family: monospace;background-color: #f0f8ff;border: 1px dotted black;border-radius: 0.25em;box-sizing: border-box;margin-bottom: 0.5em;}#sk-container-id-3 div.sk-estimator:hover {background-color: #d4ebff;}#sk-container-id-3 div.sk-parallel-item::after {content: \"\";width: 100%;border-bottom: 1px solid gray;flex-grow: 1;}#sk-container-id-3 div.sk-label:hover label.sk-toggleable__label {background-color: #d4ebff;}#sk-container-id-3 div.sk-serial::before {content: \"\";position: absolute;border-left: 1px solid gray;box-sizing: border-box;top: 0;bottom: 0;left: 50%;z-index: 0;}#sk-container-id-3 div.sk-serial {display: flex;flex-direction: column;align-items: center;background-color: white;padding-right: 0.2em;padding-left: 0.2em;position: relative;}#sk-container-id-3 div.sk-item {position: relative;z-index: 1;}#sk-container-id-3 div.sk-parallel {display: flex;align-items: stretch;justify-content: center;background-color: white;position: relative;}#sk-container-id-3 div.sk-item::before, #sk-container-id-3 div.sk-parallel-item::before {content: \"\";position: absolute;border-left: 1px solid gray;box-sizing: border-box;top: 0;bottom: 0;left: 50%;z-index: -1;}#sk-container-id-3 div.sk-parallel-item {display: flex;flex-direction: column;z-index: 1;position: relative;background-color: white;}#sk-container-id-3 div.sk-parallel-item:first-child::after {align-self: flex-end;width: 50%;}#sk-container-id-3 div.sk-parallel-item:last-child::after {align-self: flex-start;width: 50%;}#sk-container-id-3 div.sk-parallel-item:only-child::after {width: 0;}#sk-container-id-3 div.sk-dashed-wrapped {border: 1px dashed gray;margin: 0 0.4em 0.5em 0.4em;box-sizing: border-box;padding-bottom: 0.4em;background-color: white;}#sk-container-id-3 div.sk-label label {font-family: monospace;font-weight: bold;display: inline-block;line-height: 1.2em;}#sk-container-id-3 div.sk-label-container {text-align: center;}#sk-container-id-3 div.sk-container {/* jupyter's `normalize.less` sets `[hidden] { display: none; }` but bootstrap.min.css set `[hidden] { display: none !important; }` so we also need the `!important` here to be able to override the default hidden behavior on the sphinx rendered scikit-learn.org. See: https://github.com/scikit-learn/scikit-learn/issues/21755 */display: inline-block !important;position: relative;}#sk-container-id-3 div.sk-text-repr-fallback {display: none;}</style><div id=\"sk-container-id-3\" class=\"sk-top-container\"><div class=\"sk-text-repr-fallback\"><pre>LogisticRegression(solver=&#x27;liblinear&#x27;)</pre><b>In a Jupyter environment, please rerun this cell to show the HTML representation or trust the notebook. <br />On GitHub, the HTML representation is unable to render, please try loading this page with nbviewer.org.</b></div><div class=\"sk-container\" hidden><div class=\"sk-item\"><div class=\"sk-estimator sk-toggleable\"><input class=\"sk-toggleable__control sk-hidden--visually\" id=\"sk-estimator-id-3\" type=\"checkbox\" checked><label for=\"sk-estimator-id-3\" class=\"sk-toggleable__label sk-toggleable__label-arrow\">LogisticRegression</label><div class=\"sk-toggleable__content\"><pre>LogisticRegression(solver=&#x27;liblinear&#x27;)</pre></div></div></div></div></div>"
      ],
      "text/plain": [
       "LogisticRegression(solver='liblinear')"
      ]
     },
     "execution_count": 61,
     "metadata": {},
     "output_type": "execute_result"
    }
   ],
   "source": [
    "from sklearn.linear_model import LogisticRegression\n",
    "model = LogisticRegression(solver='liblinear')\n",
    "model.fit(x_train, y_train )"
   ]
  },
  {
   "cell_type": "code",
   "execution_count": 41,
   "id": "c78c5130-7df6-450c-b9d7-a1d78e1a8f20",
   "metadata": {},
   "outputs": [
    {
     "data": {
      "text/plain": [
       "0.9703703703703703"
      ]
     },
     "execution_count": 41,
     "metadata": {},
     "output_type": "execute_result"
    }
   ],
   "source": [
    "model.score(x_test, y_test)  #checking accuracy of model"
   ]
  },
  {
   "cell_type": "code",
   "execution_count": 42,
   "id": "1f5c57d0-fc69-4d10-b513-f5b052d32621",
   "metadata": {},
   "outputs": [
    {
     "data": {
      "text/plain": [
       "<matplotlib.image.AxesImage at 0x148bdaf69d0>"
      ]
     },
     "execution_count": 42,
     "metadata": {},
     "output_type": "execute_result"
    },
    {
     "data": {
      "image/png": "[encoded data removed]",
      "text/plain": [
       "<Figure size 480x480 with 1 Axes>"
      ]
     },
     "metadata": {},
     "output_type": "display_data"
    }
   ],
   "source": [
    "plt.matshow(digits.images[67])  "
   ]
  },
  {
   "cell_type": "code",
   "execution_count": 43,
   "id": "9cf5763b-9749-46f2-b6fb-d1da796034c0",
   "metadata": {},
   "outputs": [
    {
     "data": {
      "text/plain": [
       "array([6])"
      ]
     },
     "execution_count": 43,
     "metadata": {},
     "output_type": "execute_result"
    }
   ],
   "source": [
    "model.predict([digits.data[67]])"
   ]
  },
  {
   "cell_type": "code",
   "execution_count": 44,
   "id": "9f3c9cf4-00be-4eda-b525-ec1abfb05e26",
   "metadata": {},
   "outputs": [
    {
     "data": {
      "text/plain": [
       "6"
      ]
     },
     "execution_count": 44,
     "metadata": {},
     "output_type": "execute_result"
    }
   ],
   "source": [
    "digits.target[67]"
   ]
  },
  {
   "cell_type": "code",
   "execution_count": 45,
   "id": "a47a44f1-4792-4b24-af41-b18bc8499b5e",
   "metadata": {},
   "outputs": [
    {
     "data": {
      "text/plain": [
       "array([0, 9, 5, 5, 6])"
      ]
     },
     "execution_count": 45,
     "metadata": {},
     "output_type": "execute_result"
    }
   ],
   "source": [
    "model.predict(digits.data[30:35])"
   ]
  },
  {
   "cell_type": "code",
   "execution_count": 46,
   "id": "7cfe1f41-ac68-40d3-99a7-ba6b85d53c05",
   "metadata": {},
   "outputs": [
    {
     "data": {
      "text/plain": [
       "array([0, 9, 5, 5, 6])"
      ]
     },
     "execution_count": 46,
     "metadata": {},
     "output_type": "execute_result"
    }
   ],
   "source": [
    "digits.target[30:35]"
   ]
  },
  {
   "cell_type": "code",
   "execution_count": 47,
   "id": "edc05f7c-0442-4736-b696-63a9ed5fc8d1",
   "metadata": {},
   "outputs": [
    {
     "data": {
      "text/plain": [
       "<Figure size 640x480 with 0 Axes>"
      ]
     },
     "metadata": {},
     "output_type": "display_data"
    },
    {
     "data": {
      "image/png": "[encoded data removed]",
      "text/plain": [
       "<Figure size 480x480 with 1 Axes>"
      ]
     },
     "metadata": {},
     "output_type": "display_data"
    },
    {
     "data": {
      "image/png": "[encoded data removed]",
      "text/plain": [
       "<Figure size 480x480 with 1 Axes>"
      ]
     },
     "metadata": {},
     "output_type": "display_data"
    },
    {
     "data": {
      "image/png": "[encoded data removed]",
      "text/plain": [
       "<Figure size 480x480 with 1 Axes>"
      ]
     },
     "metadata": {},
     "output_type": "display_data"
    },
    {
     "data": {
      "image/png": "[encoded data removed]",
      "text/plain": [
       "<Figure size 480x480 with 1 Axes>"
      ]
     },
     "metadata": {},
     "output_type": "display_data"
    },
    {
     "data": {
      "image/png": "[encoded data removed]",
      "text/plain": [
       "<Figure size 480x480 with 1 Axes>"
      ]
     },
     "metadata": {},
     "output_type": "display_data"
    }
   ],
   "source": [
    "plt.gray()\n",
    "for i in range(30, 35):\n",
    " plt.matshow(digits.images[i])"
   ]
  },
  {
   "cell_type": "markdown",
   "id": "1ac1c46b-04e7-466e-8d1d-dd1d66fe8c38",
   "metadata": {},
   "source": [
    "Drawing Confusion Matrix"
   ]
  },
  {
   "cell_type": "code",
   "execution_count": 48,
   "id": "6508be6c-502c-4c52-8c8c-d98ab53c7701",
   "metadata": {},
   "outputs": [],
   "source": [
    "y_predicted = model.predict(x_test)"
   ]
  },
  {
   "cell_type": "code",
   "execution_count": 49,
   "id": "a17f7a8f-ca57-4b07-9385-dbc28a34faa2",
   "metadata": {},
   "outputs": [],
   "source": [
    "from sklearn.metrics import confusion_matrix"
   ]
  },
  {
   "cell_type": "code",
   "execution_count": 50,
   "id": "8337e9ce-9680-4bc3-8d4e-f674949a6f35",
   "metadata": {},
   "outputs": [
    {
     "data": {
      "text/plain": [
       "array([[46,  0,  0,  0,  0,  0,  0,  0,  0,  0],\n",
       "       [ 0, 56,  0,  0,  0,  0,  0,  0,  1,  1],\n",
       "       [ 0,  0, 55,  0,  0,  0,  0,  0,  0,  0],\n",
       "       [ 0,  0,  0, 52,  0,  0,  0,  0,  1,  1],\n",
       "       [ 0,  1,  0,  0, 61,  0,  0,  0,  0,  0],\n",
       "       [ 0,  0,  0,  0,  1, 52,  0,  0,  0,  2],\n",
       "       [ 0,  0,  0,  0,  0,  0, 47,  0,  1,  0],\n",
       "       [ 0,  0,  0,  1,  1,  0,  0, 55,  0,  0],\n",
       "       [ 0,  2,  0,  0,  1,  1,  0,  0, 44,  1],\n",
       "       [ 0,  0,  0,  0,  0,  0,  0,  0,  0, 56]], dtype=int64)"
      ]
     },
     "execution_count": 50,
     "metadata": {},
     "output_type": "execute_result"
    }
   ],
   "source": [
    "cm = confusion_matrix(y_test, y_predicted)\n",
    "cm"
   ]
  },
  {
   "cell_type": "code",
   "execution_count": 51,
   "id": "15087595-065f-46ce-a246-87b46293e845",
   "metadata": {},
   "outputs": [],
   "source": [
    "import seaborn as   #to display the confusion matrix in the form of heatmap"
   ]
  },
  {
   "cell_type": "code",
   "execution_count": 52,
   "id": "2901df6d-eac2-4893-b9f0-299113f62bfb",
   "metadata": {},
   "outputs": [
    {
     "data": {
      "text/plain": [
       "<Figure size 1000x700 with 0 Axes>"
      ]
     },
     "execution_count": 52,
     "metadata": {},
     "output_type": "execute_result"
    },
    {
     "data": {
      "text/plain": [
       "<Figure size 1000x700 with 0 Axes>"
      ]
     },
     "metadata": {},
     "output_type": "display_data"
    }
   ],
   "source": [
    "plt.figure(figsize=(10,7))   #width and height in inches"
   ]
  },
  {
   "cell_type": "code",
   "execution_count": 53,
   "id": "fdb9a3ba-6026-4452-88be-be2499c46421",
   "metadata": {},
   "outputs": [
    {
     "data": {
      "text/plain": [
       "Text(50.722222222222214, 0.5, 'Predicted value')"
      ]
     },
     "execution_count": 53,
     "metadata": {},
     "output_type": "execute_result"
    },
    {
     "data": {
      "image/png": "[encoded data removed]",
      "text/plain": [
       "<Figure size 640x480 with 2 Axes>"
      ]
     },
     "metadata": {},
     "output_type": "display_data"
    }
   ],
   "source": [
    "sns.heatmap(cm, annot=True, )\n",
    "plt.xlabel('Truth value')\n",
    "plt.ylabel('Predicted value')"
   ]
  },
  {
   "cell_type": "markdown",
   "id": "59856476-b7c2-40ab-a05b-78268d5c444f",
   "metadata": {},
   "source": [
    "Using the Model to Predict Our Own Hand-Written Digit"
   ]
  },
  {
   "cell_type": "code",
   "execution_count": 54,
   "id": "4b0f8dab-e7f2-4d1e-9214-a44f6ae9245c",
   "metadata": {},
   "outputs": [],
   "source": [
    "from PIL import Image, ImageOps        #importiong pillow and numpy packages\n",
    "import numpy as np "
   ]
  },
  {
   "cell_type": "code",
   "execution_count": 55,
   "id": "94984551-7831-4f39-980b-1f046d75546d",
   "metadata": {},
   "outputs": [],
   "source": [
    "img = Image.open('C:/Users/LENOVO/four-small.png').convert('L')   # load image from the folder. l for grayscale"
   ]
  },
  {
   "cell_type": "code",
   "execution_count": 56,
   "id": "6067c8c4-d94d-4731-82e5-d92cd2567275",
   "metadata": {},
   "outputs": [],
   "source": [
    "img_inverted = ImageOps.invert(img)"
   ]
  },
  {
   "cell_type": "code",
   "execution_count": 57,
   "id": "ca3ef74a-6c2d-495a-b985-fa25dee9fbb7",
   "metadata": {},
   "outputs": [
    {
     "data": {
      "text/plain": [
       "array([[ 0,  1,  6,  0,  0,  0,  0,  0],\n",
       "       [ 0,  8, 24,  0,  0,  0,  0,  0],\n",
       "       [ 0, 14, 18,  0, 31, 11,  0,  0],\n",
       "       [ 0, 22, 11,  0, 37, 15,  0,  0],\n",
       "       [ 0, 16, 42, 30, 52, 12,  0,  0],\n",
       "       [ 0,  0,  5, 19, 40,  5,  0,  0],\n",
       "       [ 0,  0,  0,  0, 23,  2,  0,  0],\n",
       "       [ 0,  0,  0,  0, 17,  0,  0,  0]], dtype=uint8)"
      ]
     },
     "execution_count": 57,
     "metadata": {},
     "output_type": "execute_result"
    }
   ],
   "source": [
    "arr = np.array(img_inverted)\n",
    "arr"
   ]
  },
  {
   "cell_type": "code",
   "execution_count": 58,
   "id": "433837e2-6b5e-427e-bc69-46fd10633117",
   "metadata": {},
   "outputs": [],
   "source": [
    "arr1 = arr.flatten()"
   ]
  },
  {
   "cell_type": "code",
   "execution_count": 62,
   "id": "cab262ad-1ab0-4263-933e-6cf1fac38080",
   "metadata": {},
   "outputs": [
    {
     "data": {
      "text/plain": [
       "array([4])"
      ]
     },
     "execution_count": 62,
     "metadata": {},
     "output_type": "execute_result"
    }
   ],
   "source": [
    "model.predict([arr1])"
   ]
  },
  {
   "cell_type": "code",
   "execution_count": 63,
   "id": "d9812294-c914-4c75-81e9-071702170c18",
   "metadata": {},
   "outputs": [],
   "source": [
    "img = Image.open('C:/Users/LENOVO/one-small.png').convert('L')"
   ]
  },
  {
   "cell_type": "code",
   "execution_count": 64,
   "id": "1e543c12-001f-4419-97d9-8d00c4aa8e4a",
   "metadata": {},
   "outputs": [],
   "source": [
    "img_inverted = ImageOps.invert(img)"
   ]
  },
  {
   "cell_type": "code",
   "execution_count": 65,
   "id": "57997b34-317e-4b91-986b-2444a43bea02",
   "metadata": {},
   "outputs": [
    {
     "data": {
      "text/plain": [
       "array([[  0,   0,  11,  12,   0,   0,   0,   0],\n",
       "       [  0,   0,  54,  40,   0,   0,   0,   0],\n",
       "       [  0,   0,  44,  25,   0,   0,   0,   0],\n",
       "       [  0,   0,  18,  21,   0,   0,   0,   0],\n",
       "       [  0,   0,  23,  19,   0,   0,   0,   0],\n",
       "       [  0,   0,  26,  14,   0,   0,   0,   0],\n",
       "       [  0,  58, 104,  50,  28,   0,   0,   0],\n",
       "       [  0,   4,   4,   7,   4,   0,   0,   0]], dtype=uint8)"
      ]
     },
     "execution_count": 65,
     "metadata": {},
     "output_type": "execute_result"
    }
   ],
   "source": [
    "arr = np.array(img_inverted)\n",
    "arr"
   ]
  },
  {
   "cell_type": "code",
   "execution_count": 66,
   "id": "0cee7adb-83d5-4b30-b2f2-b55cfc581dc5",
   "metadata": {},
   "outputs": [],
   "source": [
    "arr1 = arr.flatten()"
   ]
  },
  {
   "cell_type": "code",
   "execution_count": 67,
   "id": "d86de2d8-48fc-499a-9038-cd26da414c3e",
   "metadata": {},
   "outputs": [
    {
     "data": {
      "text/plain": [
       "array([6])"
      ]
     },
     "execution_count": 67,
     "metadata": {},
     "output_type": "execute_result"
    }
   ],
   "source": [
    "model.predict([arr1])"
   ]
  }
 ],
 "metadata": {
  "kernelspec": {
   "display_name": "Python 3 (ipykernel)",
   "language": "python",
   "name": "python3"
  },
  "language_info": {
   "codemirror_mode": {
    "name": "ipython",
    "version": 3
   },
   "file_extension": ".py",
   "mimetype": "text/x-python",
   "name": "python",
   "nbconvert_exporter": "python",
   "pygments_lexer": "ipython3",
   "version": "3.11.7"
  }
 },
 "nbformat": 4,
 "nbformat_minor": 5
}
